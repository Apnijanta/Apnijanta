{
  "nbformat": 4,
  "nbformat_minor": 0,
  "metadata": {
    "colab": {
      "provenance": [],
      "authorship_tag": "ABX9TyNySEFq0bBPCEdgqxc7ysh3",
      "include_colab_link": true
    },
    "kernelspec": {
      "name": "python3",
      "display_name": "Python 3"
    },
    "language_info": {
      "name": "python"
    }
  },
  "cells": [
    {
      "cell_type": "markdown",
      "metadata": {
        "id": "view-in-github",
        "colab_type": "text"
      },
      "source": [
        "<a href=\"https://colab.research.google.com/github/Apnijanta/Apnijanta/blob/main/save.ipynb\" target=\"_parent\"><img src=\"https://colab.research.google.com/assets/colab-badge.svg\" alt=\"Open In Colab\"/></a>"
      ]
    },
    {
      "cell_type": "code",
      "source": [
        "!git clone https://github.com/Apnijanta/sav.git"
      ],
      "metadata": {
        "colab": {
          "base_uri": "https://localhost:8080/"
        },
        "id": "dVrZCmuiQ-hh",
        "outputId": "7416e4f3-d4e5-4d01-b820-c833424d3fb9"
      },
      "execution_count": 20,
      "outputs": [
        {
          "output_type": "stream",
          "name": "stdout",
          "text": [
            "fatal: destination path 'sav' already exists and is not an empty directory.\n"
          ]
        }
      ]
    },
    {
      "cell_type": "code",
      "source": [
        "import pandas as pd"
      ],
      "metadata": {
        "id": "cj2VhPavRqDu"
      },
      "execution_count": 22,
      "outputs": []
    },
    {
      "cell_type": "code",
      "source": [
        "path = '/Dockerfile'"
      ],
      "metadata": {
        "id": "jk8Eq-U2R5X3"
      },
      "execution_count": 23,
      "outputs": []
    },
    {
      "cell_type": "code",
      "source": [
        "path = '/README.md'"
      ],
      "metadata": {
        "id": "-ud6UeH-SEjB"
      },
      "execution_count": 24,
      "outputs": []
    },
    {
      "cell_type": "code",
      "source": [
        "path = '/app.json'"
      ],
      "metadata": {
        "id": "sUWcaH-VSLgJ"
      },
      "execution_count": 25,
      "outputs": []
    },
    {
      "cell_type": "code",
      "source": [
        "path = '/bash.sh'"
      ],
      "metadata": {
        "id": "324E1jkOSQ8v"
      },
      "execution_count": 26,
      "outputs": []
    },
    {
      "cell_type": "code",
      "source": [
        "path = '/.dockerenv'"
      ],
      "metadata": {
        "id": "HlOC0V8rSVSK"
      },
      "execution_count": 27,
      "outputs": []
    },
    {
      "cell_type": "code",
      "source": [
        "path = '/heroku.yml'"
      ],
      "metadata": {
        "id": "oED6pp4gSdA4"
      },
      "execution_count": 28,
      "outputs": []
    },
    {
      "cell_type": "code",
      "source": [
        "path = '/requirements.txt'"
      ],
      "metadata": {
        "id": "3TmM4kRBSk0x"
      },
      "execution_count": 29,
      "outputs": []
    },
    {
      "cell_type": "code",
      "source": [
        "path = '/__init__.py'"
      ],
      "metadata": {
        "id": "Ho7y2KuoSvtL"
      },
      "execution_count": 30,
      "outputs": []
    },
    {
      "cell_type": "code",
      "source": [
        "path = '/__main__.py'"
      ],
      "metadata": {
        "id": "rDh_3wG_S0yq"
      },
      "execution_count": 31,
      "outputs": []
    },
    {
      "cell_type": "code",
      "source": [
        "path = '/utils.py'"
      ],
      "metadata": {
        "id": "b7vvURZtS5Ci"
      },
      "execution_count": 32,
      "outputs": []
    }
  ]
}