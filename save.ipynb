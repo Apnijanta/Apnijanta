{
  "nbformat": 4,
  "nbformat_minor": 0,
  "metadata": {
    "colab": {
      "provenance": [],
      "authorship_tag": "ABX9TyM1RTsLZIDQRpP89gxSpaix",
      "include_colab_link": true
    },
    "kernelspec": {
      "name": "python3",
      "display_name": "Python 3"
    },
    "language_info": {
      "name": "python"
    }
  },
  "cells": [
    {
      "cell_type": "markdown",
      "metadata": {
        "id": "view-in-github",
        "colab_type": "text"
      },
      "source": [
        "<a href=\"https://colab.research.google.com/github/Apnijanta/Apnijanta/blob/main/save.ipynb\" target=\"_parent\"><img src=\"https://colab.research.google.com/assets/colab-badge.svg\" alt=\"Open In Colab\"/></a>"
      ]
    },
    {
      "cell_type": "code",
      "source": [
        "\n",
        "Go to file\n",
        "t\n",
        "Add file\n",
        "Folders and files\n",
        "Name\n",
        "Latest commit\n",
        "Apnijanta\n",
        "Apnijanta\n",
        "Update __main__.py\n",
        "d5309cd\n",
        " ·\n",
        "last month\n",
        "History\n",
        ".GitHub/workflows\n",
        "Delete S\n",
        "last year\n",
        "main\n",
        "Update __main__.py\n",
        "last month\n",
        "Dockerfile\n",
        "Add files via upload\n",
        "last year\n",
        "README.md\n",
        "Update README.md\n",
        "last month\n",
        "app.json\n",
        "Update app.json\n",
        "last month\n",
        "bash.sh\n",
        "Update bash.sh\n",
        "last month\n",
        "heroku.yml\n",
        "Add files via upload\n",
        "last year\n",
        "requirements.txt\n",
        "Add files via upload\n",
        "last year"
      ],
      "metadata": {
        "id": "7x0AkmISCd5q"
      },
      "execution_count": null,
      "outputs": []
    }
  ]
}